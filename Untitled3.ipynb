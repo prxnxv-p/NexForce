{
  "nbformat": 4,
  "nbformat_minor": 0,
  "metadata": {
    "colab": {
      "provenance": []
    },
    "kernelspec": {
      "name": "python3",
      "display_name": "Python 3"
    },
    "language_info": {
      "name": "python"
    }
  },
  "cells": [
    {
      "cell_type": "code",
      "execution_count": 1,
      "metadata": {
        "colab": {
          "base_uri": "https://localhost:8080/"
        },
        "id": "RTtNaxFTjV3K",
        "outputId": "4321e1d5-0398-4a3f-da06-a00156120c8e"
      },
      "outputs": [
        {
          "output_type": "stream",
          "name": "stdout",
          "text": [
            "*Height*\n",
            "mean: 67.9931135968\n",
            "median: 67.9957\n",
            "mode: 70.04724\n"
          ]
        }
      ],
      "source": [
        "import pandas as pd\n",
        "from statistics import mean, median, mode\n",
        "path=\"archive.csv\"\n",
        "data=pd.read_csv(path)\n",
        "\n",
        "data_height=data['Height(Inches)']\n",
        "data_weight=data['Weight(Pounds)']\n",
        "\n",
        "#To find Mean\n",
        "height_mean=mean(data_height)\n",
        "weight_mean=mean(data_weight)\n",
        "\n",
        "#To find median\n",
        "height_median=median(data_height)\n",
        "weight_median=median(data_weight)\n",
        "\n",
        "#to find mode\n",
        "height_mode=mode(data_height)\n",
        "weight_mode=mode(data_weight)\n",
        "\n",
        "print(\"*Height*\")\n",
        "print(\"mean:\",height_mean)\n",
        "print(\"median:\",height_median)\n",
        "print(\"mode:\",height_mode)"
      ]
    }
  ]
}